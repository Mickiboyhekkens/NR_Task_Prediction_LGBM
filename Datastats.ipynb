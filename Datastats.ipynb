{
 "cells": [
  {
   "cell_type": "code",
   "execution_count": 40,
   "metadata": {},
   "outputs": [],
   "source": [
    "import pandas as pd\n",
    "import os"
   ]
  },
  {
   "cell_type": "code",
   "execution_count": 43,
   "metadata": {},
   "outputs": [
    {
     "name": "stderr",
     "output_type": "stream",
     "text": [
      "/var/folders/gm/pvnntq692jd5ng0rtk5l0z9m0000gn/T/ipykernel_48961/2217219496.py:25: FutureWarning: The default of observed=False is deprecated and will be changed to True in a future version of pandas. Pass observed=False to retain current behavior or observed=True to adopt the future default and silence this warning.\n",
      "  summary_df = df.groupby('Range').agg({\n"
     ]
    },
    {
     "data": {
      "text/html": [
       "<div>\n",
       "<style scoped>\n",
       "    .dataframe tbody tr th:only-of-type {\n",
       "        vertical-align: middle;\n",
       "    }\n",
       "\n",
       "    .dataframe tbody tr th {\n",
       "        vertical-align: top;\n",
       "    }\n",
       "\n",
       "    .dataframe thead th {\n",
       "        text-align: right;\n",
       "    }\n",
       "</style>\n",
       "<table border=\"1\" class=\"dataframe\">\n",
       "  <thead>\n",
       "    <tr style=\"text-align: right;\">\n",
       "      <th></th>\n",
       "      <th>Range</th>\n",
       "      <th>Count</th>\n",
       "      <th>Total nr tasks</th>\n",
       "      <th>Total nr labour hours</th>\n",
       "    </tr>\n",
       "  </thead>\n",
       "  <tbody>\n",
       "    <tr>\n",
       "      <th>0</th>\n",
       "      <td>0-9</td>\n",
       "      <td>4372</td>\n",
       "      <td>2887</td>\n",
       "      <td>5184.0</td>\n",
       "    </tr>\n",
       "    <tr>\n",
       "      <th>1</th>\n",
       "      <td>10-99</td>\n",
       "      <td>4310</td>\n",
       "      <td>38125</td>\n",
       "      <td>78882.0</td>\n",
       "    </tr>\n",
       "    <tr>\n",
       "      <th>2</th>\n",
       "      <td>100-999</td>\n",
       "      <td>1393</td>\n",
       "      <td>96444</td>\n",
       "      <td>134289.0</td>\n",
       "    </tr>\n",
       "    <tr>\n",
       "      <th>3</th>\n",
       "      <td>1000-9999</td>\n",
       "      <td>69</td>\n",
       "      <td>9439</td>\n",
       "      <td>11621.0</td>\n",
       "    </tr>\n",
       "    <tr>\n",
       "      <th>4</th>\n",
       "      <td>10000-99999</td>\n",
       "      <td>3</td>\n",
       "      <td>11715</td>\n",
       "      <td>6092.0</td>\n",
       "    </tr>\n",
       "  </tbody>\n",
       "</table>\n",
       "</div>"
      ],
      "text/plain": [
       "         Range  Count  Total nr tasks  Total nr labour hours\n",
       "0          0-9   4372            2887                 5184.0\n",
       "1        10-99   4310           38125                78882.0\n",
       "2      100-999   1393           96444               134289.0\n",
       "3    1000-9999     69            9439                11621.0\n",
       "4  10000-99999      3           11715                 6092.0"
      ]
     },
     "execution_count": 43,
     "metadata": {},
     "output_type": "execute_result"
    }
   ],
   "source": [
    "folder_path = 'RT_datasets'\n",
    "rt_datasets_dict = {}\n",
    "\n",
    "# Read datasets from the folder and accumulate necessary data\n",
    "for filename in os.listdir(folder_path):\n",
    "    if filename != '.DS_Store':\n",
    "        file_path = os.path.join(folder_path, filename)\n",
    "        dfRT = pd.read_csv(file_path)\n",
    "        if 'nrtask' in dfRT.columns:\n",
    "            nr_task_cum = sum(dfRT['nrtask'])\n",
    "            nr_labour_cum = sum(dfRT['nrlabour'])\n",
    "            rt_datasets_dict[filename] = [dfRT.shape[0], nr_task_cum, nr_labour_cum]\n",
    "\n",
    "# Create a DataFrame from the accumulated data\n",
    "df = pd.DataFrame.from_dict(rt_datasets_dict, orient='index', columns=['size', 'total nr tasks', 'total nr labour hours'])\n",
    "\n",
    "# Define bins for the data range\n",
    "bins = [0, 10, 100, 1000, 10000, 100000]\n",
    "bin_labels = ['0-9', '10-99', '100-999', '1000-9999', '10000-99999']\n",
    "\n",
    "# Categorize the data into bins\n",
    "df['Range'] = pd.cut(df['size'], bins=bins, labels=bin_labels, right=False, include_lowest=True)\n",
    "\n",
    "# Aggregate the data by bins\n",
    "summary_df = df.groupby('Range').agg({\n",
    "    'size': 'count', \n",
    "    'total nr tasks': 'sum',\n",
    "    'total nr labour hours': 'sum'\n",
    "}).reset_index()\n",
    "\n",
    "# Rename columns for clarity\n",
    "summary_df.columns = ['Range', 'Count', 'Total nr tasks', 'Total nr labour hours']\n",
    "summary_df['Total nr labour hours'] = summary_df['Total nr labour hours'].round()\n",
    "# Ensure the DataFrame displays properly\n",
    "summary_df"
   ]
  },
  {
   "cell_type": "code",
   "execution_count": 42,
   "metadata": {},
   "outputs": [],
   "source": [
    "#df.to_csv('Data_Exploration/Routine_Tasks_stats.csv')"
   ]
  }
 ],
 "metadata": {
  "kernelspec": {
   "display_name": "Reinforcement_Learning",
   "language": "python",
   "name": "python3"
  },
  "language_info": {
   "codemirror_mode": {
    "name": "ipython",
    "version": 3
   },
   "file_extension": ".py",
   "mimetype": "text/x-python",
   "name": "python",
   "nbconvert_exporter": "python",
   "pygments_lexer": "ipython3",
   "version": "3.11.5"
  }
 },
 "nbformat": 4,
 "nbformat_minor": 2
}
